{
 "cells": [
  {
   "cell_type": "markdown",
   "metadata": {},
   "source": [
    "### Labo Week 1 : Datastructuren in Python"
   ]
  },
  {
   "cell_type": "markdown",
   "metadata": {
    "slideshow": {
     "slide_type": "notes"
    }
   },
   "source": [
    "#### Alvast 10 bijzonderheden van de taal : \n",
    "\n",
    "> 1. Python is een geïnterpreteerde taal\n",
    "> 2. Code wordt gestructureerd via spaties / tabs en niet via accolades\n",
    "\n",
    "        for x in array:\n",
    "            if x < 4:\n",
    "                result = True\n",
    "> 3. Python is dynamisch en sterk getypeerd\n",
    "> 4. Alles is een object in Python : getallen, strings, data structuren, functies, classes, ... \n",
    "   en elk object heeft interne data en een type\n",
    "> 5. Commentaar plaats je achter de hash mark : # dit zal genegeerd worden\n",
    "> 6. Functies kunnen _positional_ en _keyword_ argumenten hebben : result = f(a,b,c,d=5,e='foo')\n",
    "> 7. The Python null value type is *None*\n",
    "> 8. Python built-in data structures : Tuple, List, Set, Dictionary\n",
    "> 9. Python Libraries : numPy, pandas, scikit-learn\n",
    "> 10. Matplotlib Integratie\n",
    "\n",
    "Meer bijzonderheden te ontdekken ivm basis Python : https://docs.python.org/3/tutorial/"
   ]
  },
  {
   "cell_type": "markdown",
   "metadata": {},
   "source": [
    "### Deel 1  : Functies in Python\n",
    "\n",
    "Functies worden aangemaakt via het `def` keyword. Via ronde haken geef je parameters mee (_positional_ en _keyword_). Via keyword `return` geef je een resultaat terug."
   ]
  },
  {
   "cell_type": "markdown",
   "metadata": {},
   "source": [
    "**_Oefening 1_** : \n",
    "Schrijf een programma dat de conversie van Celsius naar Fahrenheit doet. \n",
    "De conversieformule is $^\\circ$F = 9/ 5 * $^\\circ$C + 32. \n",
    "Controleer de correcte uitvoer van je programma: 12$^\\circ$C = 53.6$^\\circ$F .\n",
    "\n",
    "Maak tevens de omgekeerde conversie van Fahrenheit naar Celsius. Controleer opnieuw de\n",
    "correcte uitvoer van je programma: 77$^\\circ$F = 25$^\\circ$C."
   ]
  },
  {
   "cell_type": "code",
   "execution_count": 1,
   "metadata": {},
   "outputs": [
    {
     "name": "stdout",
     "output_type": "stream",
     "text": [
      "53.60°C\n"
     ]
    }
   ],
   "source": [
    "def ConvertCelcius(waarde):\n",
    "    celcius = 9/5 * waarde + 32\n",
    "    print(f'{celcius:.2f}\\u00b0C')\n",
    "    \n",
    "ConvertCelcius(12)"
   ]
  },
  {
   "cell_type": "code",
   "execution_count": 2,
   "metadata": {},
   "outputs": [
    {
     "name": "stdout",
     "output_type": "stream",
     "text": [
      "12.00°F\n"
     ]
    }
   ],
   "source": [
    "def ConvertFahrenheit(waarde):\n",
    "    fahrenheit = (waarde - 32) * (5/9)\n",
    "    print(f'{fahrenheit:.2f}\\u00b0F')\n",
    "    \n",
    "ConvertFahrenheit(53.6)"
   ]
  },
  {
   "cell_type": "markdown",
   "metadata": {},
   "source": [
    "**_Oefening 2_** : Schrijf een programma waarbij je de gebruiker zijn voornaam, naam en vervolgens zijn leeftijd vraagt. Verwelkom deze gebruiker en laat hem weten in welk jaar deze de leeftijd van 100 jaar zal bereiken.  \n",
    "\n",
    "**Tips** : \n",
    "- Maak gebruik van de datetime module.\n",
    "- Via de `input()` methode kan je de gebruiker input laten geven"
   ]
  },
  {
   "cell_type": "code",
   "execution_count": 3,
   "metadata": {},
   "outputs": [],
   "source": [
    "#from datetime import datetime\n",
    "def Vragen():\n",
    "    \n",
    "    voornaam = input(\"Wat is uw voornaam?\")\n",
    "    naam = input(\"wat is uw naam?\")\n",
    "    leeftijd = input(\"Hoe oud ben je?\")\n",
    "    \n",
    "    print(f'Welkom {voornaam} {naam}')\n",
    "    toekomst = 100 - (int(leeftijd))\n",
    "    #current = str(datetime.now().year)\n",
    "    #print(current)\n",
    "    jaar = 2022 + toekomst\n",
    "    print(f'In jaar {jaar} zal je 100 worden')\n",
    "    \n",
    "\n",
    "#Vragen()\n",
    "        "
   ]
  },
  {
   "cell_type": "markdown",
   "metadata": {},
   "source": [
    "**_Oefening 3_** : Schrijf de functie $omtrek\\_opp$ die een straal als input neemt en zowel de omtrek als oppervlakte van de cirkel als resultaat teruggeeft in een tuple."
   ]
  },
  {
   "cell_type": "code",
   "execution_count": 4,
   "metadata": {},
   "outputs": [
    {
     "data": {
      "text/plain": [
       "(31.41592653589793, 78.53981633974483)"
      ]
     },
     "execution_count": 4,
     "metadata": {},
     "output_type": "execute_result"
    }
   ],
   "source": [
    "import math as wiskunde\n",
    "def Omtrek_opp(straal):\n",
    "    omtrek = 2 * wiskunde.pi * straal\n",
    "    oppervlakte = wiskunde.pi * straal**2\n",
    "    \n",
    "    return(omtrek,oppervlakte)\n",
    "\n",
    "Omtrek_opp(5)"
   ]
  },
  {
   "cell_type": "markdown",
   "metadata": {},
   "source": [
    "**_Oefening 4_** : \n",
    "\n",
    "**4.1** Definieer 2 lijsten: ééntje met de letters van het woord 'boterham' en ééntje met letters van het woord 'hamvraag'\n",
    "\n",
    "**4.2** Schrijf een functie _klinkers_ die een lijst van letters filtert zodanig dat enkel de klinkers overblijven \n",
    "\n",
    "**4.3** Roep de functie aan op je 2 lijsten\n",
    "\n",
    "**4.4** Ga na welke klinkers ze gemeenschappelijk hebben\n"
   ]
  },
  {
   "cell_type": "code",
   "execution_count": 3,
   "metadata": {},
   "outputs": [
    {
     "name": "stdout",
     "output_type": "stream",
     "text": [
      "['o', 'e', 'a']\n",
      "['a', 'a', 'a']\n"
     ]
    }
   ],
   "source": [
    "lijstBoterham = list(\"boterham\")\n",
    "lijstHam = list(\"hamvraag\")\n",
    "\n",
    "def Klinkers(lijst):\n",
    "    return [x for x in lijst if x in 'aeiou']\n",
    "\n",
    "\n",
    "print(Klinkers(lijstBoterham))\n",
    "print(Klinkers(lijstHam))\n",
    "     "
   ]
  },
  {
   "cell_type": "markdown",
   "metadata": {},
   "source": [
    "**_Oefening 5_**  Schrijf een functie die een lijst van woorden als parameter krijgt en die het woord met het minst aantal klinkers en het woord met het meest aantal klinkers van deze lijst opnieuw uitprint naar het scherm. (Bij ex aequo print je het eerste woord af)."
   ]
  },
  {
   "cell_type": "code",
   "execution_count": 12,
   "metadata": {},
   "outputs": [
    {
     "name": "stdout",
     "output_type": "stream",
     "text": [
      "3\n"
     ]
    },
    {
     "data": {
      "text/plain": [
       "('boterham', 'boterham')"
      ]
     },
     "execution_count": 12,
     "metadata": {},
     "output_type": "execute_result"
    }
   ],
   "source": [
    "def aantalKlinkers(woord):\n",
    "    klinkers = [x for x in woord if x in 'aeiou']\n",
    "    return len(klinkers)\n",
    "print(aantalKlinkers('boterham'))\n",
    "def min_Klinkers(lijst_word):\n",
    "    numbers = [aantalKlinkers(woord) for woord in lijst_word]\n",
    "    minimum = lijst_word[numbers.index(min(numbers))]\n",
    "    maximum = lijst_word[numbers.index(max(numbers))]\n",
    "    return minimum,maximum\n",
    "\n",
    "lijst_word = [\"boterham\",\"hamvraag\"]\n",
    "min_Klinkers(lijst_word)"
   ]
  },
  {
   "cell_type": "markdown",
   "metadata": {},
   "source": [
    "**_Oefening 6_** : Schrijf een python functie $divisors$  die gegeven een getal als input, \n",
    "    als resultaat alle delers van dat getal teruggeeft. \n",
    "  \n",
    "  **Tip:** maak gebruik van de range() functie.\n"
   ]
  },
  {
   "cell_type": "code",
   "execution_count": 13,
   "metadata": {},
   "outputs": [
    {
     "name": "stdout",
     "output_type": "stream",
     "text": [
      "[1, 2, 4, 8]\n"
     ]
    }
   ],
   "source": [
    "def divisor(get):\n",
    "    all = range(1,get + 1)\n",
    "    return [x for x in all if get % x == 0]\n",
    "\n",
    "print (divisor(8))"
   ]
  },
  {
   "cell_type": "markdown",
   "metadata": {},
   "source": [
    "**_Oefening 7_** Schrijf een Python functie $vraag\\_zin$ die een zin inleest in de vorm van een String en er een vraagzin van maakt door de eerste twee woorden om te wisselen en achteraan een vraagteken toe te voegen.\n",
    "\n",
    "$vraagzin$(\"ik zou beter moeten weten\")\n",
    "\n",
    "\\>> Zou ik beter moeten weten?\n",
    "\n",
    "\n",
    "**Tip:** Zet je string eerst om naar een lijst via de $split$ functie, nadien zet je het eindresultaat weer om naar een string via de $join$ functie."
   ]
  },
  {
   "cell_type": "code",
   "execution_count": null,
   "metadata": {},
   "outputs": [],
   "source": []
  },
  {
   "cell_type": "markdown",
   "metadata": {},
   "source": [
    "**_Oefening 8_** Schrijf een functie $blok\\_zin$ die een zin (= lijst van woorden) inleest en deze terugschrijft naar het scherm maar telkens in blokken van 5 letters. Spaties komen dus op een andere plaats te staan. Het laatste blokje letters bevat het restje (mogelijk kleiner dan 5 letters)\n",
    "\n",
    "Bijvoorbeeld :\n",
    "\n",
    "Geef je zin :\n",
    "\n",
    "'Een korte maar wel een echte zin'\n",
    "\n",
    "Dit geeft :\n",
    "\n",
    "'Eenko rtema arwel eenec htezi n'\n",
    "\n",
    "**Tip:** Maak opnieuw gebruik van de $range$ methode, nu in de versie met 3 parameters zodat je een step-size kan meegeven."
   ]
  },
  {
   "cell_type": "code",
   "execution_count": null,
   "metadata": {},
   "outputs": [],
   "source": []
  },
  {
   "cell_type": "markdown",
   "metadata": {},
   "source": [
    "### Deel 2 : Datastructuren in Python : tuples, lijsten, dictionnaries en sets"
   ]
  },
  {
   "cell_type": "markdown",
   "metadata": {},
   "source": [
    "**_Oefening 9_** data inlezen van file en omzetten naar een lijst van tuples\n",
    "\n",
    "Gegeven een tekstbestand met namen van personen en hun geboortedatum. (file : DataLabo_01.txt).\n",
    "Lees dit bestand in via volgende code :\n",
    "\n",
    "    with open ('file_to_read.txt') as open_file:\n",
    "        for line in file :\n",
    "            ...\n",
    "\n",
    "Om de '\\n' van de ingelezen lijn te verwijderen kan je gebruik maken van de $rstrip()$ functie.\n",
    "\n",
    "Maak nu een lijst van tuples, waarbij elke tuple de gegevens van 1 persoon bevat als volgt : \n",
    "\n",
    "\\[('Albert', 'Einstein', '03/14/1879'), ('Benjamin', 'Franklin', '01/17/1706'), ('J.', 'Edgar', 'Hoover', '01/01/1895'), $\\ldots$\n",
    " \n",
    " Wanneer je deze lijst gemaakt hebt geef je de eerste 5 en laatste 5 personen uit de lijst weer."
   ]
  },
  {
   "cell_type": "code",
   "execution_count": 16,
   "metadata": {
    "scrolled": true
   },
   "outputs": [
    {
     "name": "stdout",
     "output_type": "stream",
     "text": [
      "[('Albert', 'Einstein', '03/14/1879'), ('Benjamin', 'Franklin', '01/17/1706'), ('J.', 'Edgar', 'Hoover', '01/01/1895'), ('Mel', 'Gibson', '01/03/1956'), ('Michael', 'Schumacher', '01/03/1969')]\n",
      "[('Leonardo', 'di', 'Caprio', '11/11/1974'), ('Condoleezza', 'Rice', '11/14/1954'), ('Prins', 'Charles', '11/14/1948'), ('Isaac', 'Newton', '12/25/1642'), ('Robert', 'Redford', '08/18/1936')]\n"
     ]
    }
   ],
   "source": [
    "data = []\n",
    "def Readdata():\n",
    "    with open ('DataLabo01.txt') as file:\n",
    "        for line in file:\n",
    "            lineEdit = line.rstrip()# \\n\n",
    "            lineStrip = lineEdit.split()# list\n",
    "            lineTuple = tuple(lineStrip)# tuple\n",
    "            data.append(lineTuple)#tuple in een list opslaan\n",
    "            # data.append(tuple(line.rstrip().split(\" \")))\n",
    "\n",
    "            \n",
    "Readdata()\n",
    "print(data[:5])\n",
    "\n",
    "print(data[-5:])"
   ]
  },
  {
   "cell_type": "markdown",
   "metadata": {},
   "source": [
    "**_Oefening 10_** : Sorteren\n",
    "\n",
    "Elk tuple bevat voornaam, achternaam eventueel initialen en het laatste element zijn geboortedatum. \n",
    "\n",
    "**10.1** Zorg ervoor dat de string die de geboortedatum voorstelt ook effectief omgevormd wordt tot een $date$ object :\n",
    "        \n",
    "        [(('Albert', 'Einstein'), datetime.date(1879, 3, 14)), ...\n",
    "        \n",
    "  en maak van de naam 1 apart string bv : \n",
    "  \n",
    "      ('J. Edgar Hoover', datetime.date(1895, 1, 1)),\n",
    "      \n",
    "  \n",
    "  _Tip_ Gebruik de methode $join$ \n",
    "        \n",
    "**10.2** Sorteer vervolgens de verkregen lijst met tuples op 2 verschillende manieren : eerst op naam, vervolgens op leeftijd. \n",
    "\n",
    "_Tip_ : Je kan ofwel de $sort$ methode op lijsten gebruiken, ofwel de functie $sorted$ die algemeen werkt op sequences. Wat is het verschil?\n",
    "\n",
    "**10.3** Geef de oudste en jongste uit de lijst weer  \n"
   ]
  },
  {
   "cell_type": "code",
   "execution_count": 42,
   "metadata": {},
   "outputs": [
    {
     "name": "stdout",
     "output_type": "stream",
     "text": [
      "jongste is: ('Al Pacino', datetime.date(1940, 4, 25))\n",
      "Oudste is:('Prins Harry', datetime.date(1984, 9, 15))\n"
     ]
    }
   ],
   "source": [
    "from datetime import date\n",
    "\n",
    "#print((data[0][:-1]))  \n",
    "names = [(' '.join(data[:-1]), date(int(data[-1][-4:]),int(data[-1][0:2]),int(data[-1][3:5]))) for data in data]\n",
    "\n",
    "opNaam = sorted(names, key=lambda tup: tup[0])\n",
    "opDatum = sorted(names, key=lambda tup: tup[1])\n",
    "\n",
    "print(f'jongste is: {opNaam[0]}\\nOudste is:{opDatum[-1]}')\n",
    "\n"
   ]
  },
  {
   "cell_type": "markdown",
   "metadata": {},
   "source": [
    "**_Oefening 11_** : Maak een maandkalender. Gebruik opnieuw de data uit datafile : ´DataLabo_01.txt´\n",
    "\n",
    " **11.1** Maak eerst een dictionary waarin maanden de keys en als values het aantal jarigen in die maand.\n",
    "   Tel dus voor elke maand hoeveel personen in je dictionary jarig zijn. \n",
    "   \n",
    " **11.2**  Maak ook een dictionary waarin maanden de keys zijn en als value kies je een set van alle personen die in die maand jarig zijn\n",
    "\n",
    "_Tip_ : je kan gebruik maken van $defaultdict$ uit module $collections$\n",
    "\n",
    "_Tip_ : alternatief kan je ook werken met een $counter \\; object$ eveneens uit de module $collections$ om de telling te doen"
   ]
  },
  {
   "cell_type": "code",
   "execution_count": 45,
   "metadata": {},
   "outputs": [
    {
     "name": "stdout",
     "output_type": "stream",
     "text": [
      "Counter({'Feb': 13, 'Jan': 10, 'Aug': 10, 'May': 9, 'Sep': 7, 'Oct': 6, 'Nov': 6, 'Apr': 5, 'Mar': 4, 'Jun': 4, 'Dec': 1})\n"
     ]
    }
   ],
   "source": [
    "from collections import defaultdict, Counter\n",
    "\n",
    "maandlijst = [(p[1].strftime(\"%b\")) for p in names]\n",
    "maandtelling = defaultdict(int)\n",
    "for maand in maandlijst: maandtelling[maand] += 1\n",
    "\n",
    "print (Counter(maandlijst))"
   ]
  },
  {
   "cell_type": "markdown",
   "metadata": {},
   "source": [
    "**_Oefening 12_** : \n",
    "\n",
    "**12.1** Breid je eerder gemaakt **lijst** van verjaardagen uit met volgende personen :\n",
    "\n",
    "- Roger Federer 1981/08/08\n",
    "- Dustin Hoffman 1937/08/08\n",
    "- Vanessa Amorosi 1981/08/08\n",
    "- Whitney Houston 1963/08/09\n",
    "- Meat Loaf 1947/09/27\n",
    "- Cheryl Tiegs 1947/09/27\n",
    "- Robert Redford 1936/08/18\n",
    "\n",
    "\n",
    "**12.2** Maak een jaarkalender :\n",
    "Maak voor elk jaartal (aanwezig in de data) een verzameling van personen die in dat jaar geboren zijn. Stop je resultaat in een dict als volgt : key = jaartal; value= verzameling personen. Welke personen zijn in hte jaar 1948 geboren?\n",
    "\n",
    "**12.3** Maak nu een verjaardagskalender : \n",
    "Maak voor elke dag in de maand een verzameling van personen die op deze dag van de maand jarig zijn. Stop je resultaat in een dict als volgt : key = (dag); value= verzameling personen. Welke personen verjaren op 4 februari? Welke personen verjaren op 18 augustus?"
   ]
  },
  {
   "cell_type": "code",
   "execution_count": 48,
   "metadata": {},
   "outputs": [
    {
     "name": "stdout",
     "output_type": "stream",
     "text": [
      "Geboren in 1948: ('Alice Cooper', datetime.date(1948, 2, 4), 'Prins Charles', datetime.date(1948, 11, 14))\n",
      "Geboren op 4 februari: ('Charles Lindbergh', datetime.date(1902, 2, 4), 'Alice Cooper', datetime.date(1948, 2, 4))\n",
      "Geboren op 18 augustus: ('Patrick Swayze', datetime.date(1952, 8, 18), 'Roman Polanski', datetime.date(1933, 8, 18), 'Robert Redford', datetime.date(1936, 8, 18), 'Robert redford', datetime.date(1936, 8, 18), 'Robert redford', datetime.date(1936, 8, 18), 'Robert redford', datetime.date(1936, 8, 18))\n"
     ]
    }
   ],
   "source": [
    "import datetime\n",
    "\n",
    "#Personen om toe te voegen\n",
    "toevoegen = [('Roger Federer', datetime.date(1981,8,8)),\n",
    "\n",
    "('Dustin Hoffman', datetime.date(1937,8,8)),\n",
    "\n",
    "('Vanessa Amorosi', datetime.date(1981,8,8)),\n",
    "\n",
    "('Whitney Houston', datetime.date(1963,8,9)),\n",
    "\n",
    "('Meat Loaf', datetime.date(1947,9,27)),\n",
    "\n",
    "('Cheryl Tiegs', datetime.date(1947,9,27)),\n",
    "\n",
    "('Robert redford', datetime.date(1936,8,18))]\n",
    "\n",
    "\n",
    "for persoon in toevoegen: names.append(persoon)\n",
    "\n",
    "jaarKalender = defaultdict(tuple)\n",
    "maandKalender = defaultdict(tuple)\n",
    "\n",
    "for persoon in names:\n",
    "    jaarKalender[persoon[1].year] += persoon\n",
    "    maandKalender[persoon[1].strftime('%d %b')] += persoon\n",
    "    \n",
    "\n",
    "print(f\"Geboren in 1948: {jaarKalender[1948]}\\nGeboren op 4 februari: {maandKalender['04 Feb']}\\nGeboren op 18 augustus: {maandKalender['18 Aug']}\")"
   ]
  },
  {
   "cell_type": "markdown",
   "metadata": {},
   "source": [
    "**_Oefening 13_** : \n",
    "\n",
    "Gebruik bovenstaande sets en set operaties om volgende te beantwoorden:\n",
    "\n",
    "**13.1** Geef alle jarigen uit de maand november van het jaar 1948\n",
    "\n",
    "**13.2** Geef alle jarigen die in de zomer van een oorlogsjaar geboren zijn\n",
    "\n",
    "**13.3** Schrijf een functie  𝑏𝑖𝑟𝑡ℎ_𝑦𝑒𝑎𝑟_𝑚𝑜𝑛𝑡ℎ_𝑑𝑎𝑦  die gegeven een jaartal, een maand en een dag alle personen teruggeven die op deze dag geboren werden. Kan je een voorbeeld vinden dat geen lege verzameling als resultaat geeft?\n"
   ]
  },
  {
   "cell_type": "code",
   "execution_count": 52,
   "metadata": {},
   "outputs": [
    {
     "name": "stdout",
     "output_type": "stream",
     "text": [
      "Geboren in november 1948\n",
      "[('Prins Charles', datetime.date(1948, 11, 14))]\n",
      "\n",
      "Geboren in de zomer tijdens oorlogsjaren\n",
      "[('John F. Kennedy', datetime.date(1917, 5, 29))]\n",
      "\n",
      "Personen met specifieke geboortedag\n",
      "[('Cheryl Tiegs', datetime.date(1947, 9, 27)), ('Meat Loaf', datetime.date(1947, 9, 27))]\n"
     ]
    }
   ],
   "source": [
    "print(\"Geboren in november 1948\")\n",
    "\n",
    "#Gaat alle personen af, word alleen geprint als geboortemaand november is en geboortejaar 1948\n",
    "\n",
    "print([persoon for persoon in set(names) if persoon[1].month == 11 and persoon[1].year == 1948])\n",
    "\n",
    "\n",
    "\n",
    "print(\"\\nGeboren in de zomer tijdens oorlogsjaren\")\n",
    "\n",
    "#Gaat alle personen af, word alleen geprint als geboortemaand in zomer is en geboortejaar in oorlog\n",
    "\n",
    "print([persoon for persoon in set(names)\n",
    "\n",
    "    if persoon[1].year in range(1914,1918)\n",
    "\n",
    "    or persoon[1].year in range(1940,1945)\n",
    "\n",
    "    and persoon[1].month in range(6,9)])\n",
    "\n",
    "\n",
    "\n",
    "#Geeft personen geboren op argumenten jaar, maand en dag\n",
    "\n",
    "def birth_year_month_day(jaar, maand, dag):\n",
    "\n",
    "    return [persoon for persoon in set(names)\n",
    "\n",
    "        if persoon[1].year == jaar\n",
    "\n",
    "        and persoon[1].month == maand\n",
    "\n",
    "        and persoon[1].day == dag]\n",
    "\n",
    "\n",
    "\n",
    "print(\"\\nPersonen met specifieke geboortedag\")\n",
    "\n",
    "print(birth_year_month_day(1947, 9, 27))"
   ]
  }
 ],
 "metadata": {
  "kernelspec": {
   "display_name": "Python 3 (ipykernel)",
   "language": "python",
   "name": "python3"
  },
  "language_info": {
   "codemirror_mode": {
    "name": "ipython",
    "version": 3
   },
   "file_extension": ".py",
   "mimetype": "text/x-python",
   "name": "python",
   "nbconvert_exporter": "python",
   "pygments_lexer": "ipython3",
   "version": "3.9.7"
  }
 },
 "nbformat": 4,
 "nbformat_minor": 4
}
