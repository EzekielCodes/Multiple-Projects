{
 "cells": [
  {
   "cell_type": "markdown",
   "metadata": {},
   "source": [
    "## Labo Week 2 : Matplotlib en Numpy"
   ]
  },
  {
   "cell_type": "markdown",
   "metadata": {},
   "source": [
    "#### **Deel 1 : quickstart numpy**"
   ]
  },
  {
   "cell_type": "markdown",
   "metadata": {},
   "source": [
    "Om te rekenen met matrices is de numpy module aangewezen wegens de efficiente manier waarop array operaties zonder loops afgehandeld worden (vectorization). Een numpy array is een ndarray, waarmee je in het algemeen n-dimensionele matrices kan aanmaken. \n",
    "\n",
    "Merk het verschil tussen de puntsgewijze vermenigvuldiging en de dot vermenigvuldiging. Merk al helemaal het verschil tussen de tijd nodig om de elementen van een array te verdubbelen (gebruik ipython magic functie %time)\n"
   ]
  },
  {
   "cell_type": "code",
   "execution_count": 3,
   "metadata": {},
   "outputs": [
    {
     "name": "stdout",
     "output_type": "stream",
     "text": [
      "[1 2] (2,) int32 1\n",
      "[[ 1  2]\n",
      " [ 5 -1]] (2, 2) int32 2\n",
      "[[[1 2]\n",
      "  [2 3]]\n",
      "\n",
      " [[3 4]\n",
      "  [4 5]]] (2, 2, 2) int32 3\n",
      "[2 4]\n",
      "\n",
      " [[ 1  4]\n",
      " [25  1]]\n",
      "[[11  0]\n",
      " [ 0 11]]\n",
      "[[11  0]\n",
      " [ 0 11]]\n"
     ]
    }
   ],
   "source": [
    "\n",
    "import numpy as np\n",
    "#vector\n",
    "x = np.array([1,2])\n",
    "\n",
    "# 2dim matrix\n",
    "y = np.array( ((1,2), (5, -1)) )\n",
    "\n",
    "\n",
    "# 3 dim array\n",
    "z = np.array([[[1, 2], [2,3]], [[3,4], [4,5]]])\n",
    "\n",
    "\n",
    "print(x, x.shape,x.dtype, x.ndim)\n",
    "print(y, y.shape,y.dtype, y.ndim)\n",
    "print(z, z.shape, z.dtype, z.ndim)\n",
    "\n",
    "print(x+x) # puntsgewijs\n",
    "print('\\n', y*y) # puntsgewijs\n",
    "print(np.dot(y,y))\n",
    "print(y@y)\n",
    "\n"
   ]
  },
  {
   "cell_type": "code",
   "execution_count": null,
   "metadata": {},
   "outputs": [
    {
     "name": "stdout",
     "output_type": "stream",
     "text": [
      "Wall time: 35 ms\n"
     ]
    }
   ],
   "source": [
    "my_array = np.arange(1000000)\n",
    "my_list = list(range(1000000))\n",
    "%time for _ in range(10): my_arr2 = my_array * 2\n"
   ]
  },
  {
   "cell_type": "code",
   "execution_count": null,
   "metadata": {},
   "outputs": [
    {
     "name": "stdout",
     "output_type": "stream",
     "text": [
      "Wall time: 1.78 s\n"
     ]
    }
   ],
   "source": [
    "%time for _ in range(10): my_list2 = [x * 2 for x in my_list]"
   ]
  },
  {
   "cell_type": "markdown",
   "metadata": {},
   "source": [
    "__Oefening 1__ :\n",
    "Deze oefening vormt een opwarmer op NumPy. De __[Quickstart van NumPy](https://docs.scipy.org/doc/numpy/user/quickstart.html#quickstart-shape-manipulation)__ geeft voldoende info voor deze oefening.\n",
    "* Definieer een klassieke Python-lijst met de gehele getallen van 0 t.e.m. 24.\n",
    "* Zet deze lijst om naar een NumPy-array $arr$\n",
    "* Herschik de elementen zodat het een 5x5 matrix wordt\n",
    "* Print van deze matrix: het aantal dimensies, de dimensies (= shape) zelf en het datatype van de elementen\n",
    "* Vermenigvuldig alle elementen met 2\n",
    "* Gebruik slicing om\n",
    "   * de __laatste__ rij weer te geven\n",
    "   * van de eerste 2 rijen de __laatste__ 2 kolommen weer te geven\n",
    "   * alle __even__ rijen en kolommen weer te geven\n",
    "* Toon de booleaanse matrix die aangeeft of de elementen deelbaar zijn door 7\n",
    "* Gebruik deze booleaanse matrix om deze elementen op 100 te zetten\n"
   ]
  },
  {
   "cell_type": "code",
   "execution_count": 4,
   "metadata": {},
   "outputs": [
    {
     "name": "stdout",
     "output_type": "stream",
     "text": [
      "[[ 0  1  2  3  4]\n",
      " [ 5  6  7  8  9]\n",
      " [10 11 12 13 14]\n",
      " [15 16 17 18 19]\n",
      " [20 21 22 23 24]]\n",
      "\n",
      "dim:  2\n",
      "\n",
      "shape:  (5, 5)\n",
      "\n",
      "type:  int32\n",
      "\n",
      "Matrix X 2\n",
      " [[ 0  2  4  6  8]\n",
      " [10 12 14 16 18]\n",
      " [20 22 24 26 28]\n",
      " [30 32 34 36 38]\n",
      " [40 42 44 46 48]]\n",
      "\n",
      "laaste rij \n",
      " [40 42 44 46 48]\n",
      "\n",
      "eerste 2 rijen en laaste 2 kolommmen\n",
      " [[ 6  8]\n",
      " [16 18]]\n",
      "\n",
      "even rijen en kolommem\n",
      " [[ 0  4  8]\n",
      " [20 24 28]\n",
      " [40 44 48]]\n"
     ]
    }
   ],
   "source": [
    "import numpy as np\n",
    "geheleGetallen = list(range(25))\n",
    "arr = np.array(geheleGetallen)\n",
    "matrixVijf = np.array(arr).reshape(5,5)\n",
    "print(matrixVijf)\n",
    "\n",
    "print('\\ndim: ', matrixVijf.ndim)\n",
    "print('\\nshape: ',matrixVijf.shape)\n",
    "print('\\ntype: ', matrixVijf.dtype)\n",
    "\n",
    "matrixVijf = matrixVijf * 2\n",
    "print('\\nMatrix X 2\\n',matrixVijf)\n",
    "\n",
    "print('\\nlaaste rij \\n',matrixVijf[-1])\n",
    "print('\\neerste 2 rijen en laaste 2 kolommmen\\n', matrixVijf[:2,-2:])\n",
    "print('\\neven rijen en kolommem\\n',matrixVijf[::2,::2])\n",
    "\n",
    "#boolmatrix = matrixVijf %7 == 0\n",
    "#print(boolmatrix)\n",
    "#matrixVijf[matrixVijf%7 ==0] = 100\n",
    "#print(matrixVijf)\n",
    "\n"
   ]
  },
  {
   "cell_type": "markdown",
   "metadata": {},
   "source": [
    "#### **Deel 2 : Data visualisatie in Matplotlib**\n",
    "\n",
    "_Tip:_ https://www.machinelearningplus.com/plots/matplotlib-tutorial-complete-guide-python-plot-examples/"
   ]
  },
  {
   "cell_type": "markdown",
   "metadata": {},
   "source": [
    "#### **1. De heatmap**\n",
    "De np-matrix kan je rechtstreeks visualiseren met __[matplotlib's pcolor of imshow](https://matplotlib.org/gallery/images_contours_and_fields/pcolor_demo.html#sphx-glr-gallery-images-contours-and-fields-pcolor-demo-py)__ \n",
    "\n",
    "__Oefening 2__ :\n",
    "* Plot je matrix $arr$ uit vorige oef uit als een heatmap\n"
   ]
  },
  {
   "cell_type": "code",
   "execution_count": 5,
   "metadata": {},
   "outputs": [
    {
     "data": {
      "image/png": "[encoded data removed]",
      "text/plain": [
       "<Figure size 432x288 with 1 Axes>"
      ]
     },
     "metadata": {
      "needs_background": "light"
     },
     "output_type": "display_data"
    }
   ],
   "source": [
    "import matplotlib.pyplot as plt\n",
    "\n",
    "#flg,(ax0,ax1) = plt.subplots(1,1)\n",
    "#ax0.set_title('x-as')\n",
    "plt.imshow(matrixVijf,cmap='hot', interpolation = 'nearest')\n",
    "plt.show()"
   ]
  },
  {
   "attachments": {
    "Boxplot.png": {
     "image/png": "[encoded data removed]"
    }
   },
   "cell_type": "markdown",
   "metadata": {},
   "source": [
    "#### **2. De Boxplot**\n",
    "\n",
    "Een boxplot representeert in 1 oogopslag de beschrijvende statische gegevens van je dataset. \n",
    "Het toont de spreiding van de data, de mediaan, de modus, outliers en alle quartielen. Voor een defintie van deze statische maten zie bvb [hier](https://blog.bijleshuis.be/statistiek-centrummaten-spreidingsmaten)\n",
    "\n",
    "![voorbeeld van een boxplot](attachment:Boxplot.png)\n",
    "\n",
    "Hoe je met matplotlib een boxplot maakt en wat je er kan van aflezen vind je \n",
    "[hier](https://matplotlib.org/stable/gallery/pyplots/boxplot_demo_pyplot.html) \n",
    "\n",
    "Bovenstaande boxplot uit [ref 1](https://blog.bijleshuis.be/statistiek-centrummaten-spreidingsmaten) geeft volgende 5 getallen samenvatting : 34, 55, 78,50, 100 en 122. Wat stellen deze getallen voor?\n"
   ]
  },
  {
   "cell_type": "markdown",
   "metadata": {},
   "source": [
    "__Oefening 3__ \n",
    "\n",
    "Gebruik de numpy functie `randn` uit de random module om 3 vectoren van normaal gedistribueerde getallen te genereren. Geef vector **x** lengte 1000, vector **y** lengte 500 en vector **z** lengte 100. Gebruik een vaste seed voor je pseudo random generator.\n",
    "\n",
    "Plot nu voor **x**, **y** en **z** een boxplot om de spreiding in de gegenereerde data te visualiseren. Geef je plot een horizontale orientatie, zorg ervoor dat de labels zichtbaar zijn. Toon de 3 plots op 1 figuur, duid de mediaan aan in het rood en het gemiddelde als een purpere lijn.\n",
    "\n",
    "Gebruik numpy functies om de 5 getallen samenvatting zelf te berekenen voor **x**, **y** en **z**. Bepaal ook de modus en de range.\n"
   ]
  },
  {
   "cell_type": "code",
   "execution_count": 9,
   "metadata": {},
   "outputs": [
    {
     "name": "stdout",
     "output_type": "stream",
     "text": [
      "[ 1.47911698  0.47594636 -0.1858056   1.05404247 -0.78587616  1.31902001\n",
      " -0.17228886 -1.8460296  -0.72475737 -0.01380577]\n"
     ]
    },
    {
     "data": {
      "text/plain": [
       "<function matplotlib.pyplot.show(close=None, block=None)>"
      ]
     },
     "execution_count": 9,
     "metadata": {},
     "output_type": "execute_result"
    },
    {
     "data": {
      "image/png": "[encoded data removed]",
      "text/plain": [
       "<Figure size 640x480 with 1 Axes>"
      ]
     },
     "metadata": {},
     "output_type": "display_data"
    }
   ],
   "source": [
    "np.random.seed(seed= 100)\n",
    "x = np.random.randn(1000)\n",
    "y = np.random.randn(100)\n",
    "z = np.random.randn(10)\n",
    "\n",
    "#data = np.concatenate((x,y,z))\n",
    "\n",
    "plt.style.use('classic')\n",
    "red_square = dict(markerfacecolor = 'r', marker ='s')\n",
    "flg, ax = plt.subplots()\n",
    "ax.boxplot((x,y,z), vert = False, showmeans=True, meanline=True,labels= ('x','y','z'),\n",
    "    medianprops={'linewidth' : 2, 'color' : 'red'},\n",
    "    meanprops= {'linewidth' : 2, 'color' : 'purple'},\n",
    "    flierprops= red_square)\n",
    "\n",
    "plt.show\n",
    "\n"
   ]
  },
  {
   "cell_type": "code",
   "execution_count": 10,
   "metadata": {},
   "outputs": [],
   "source": [
    "median_x = np.median(x)\n",
    "median_y = np.median(y)\n",
    "median_z = np.median(z)"
   ]
  },
  {
   "cell_type": "code",
   "execution_count": null,
   "metadata": {},
   "outputs": [],
   "source": [
    "import scipy.stats\n",
    "mode_ = scipy.stats.mode(x)\n"
   ]
  },
  {
   "cell_type": "code",
   "execution_count": 11,
   "metadata": {},
   "outputs": [
    {
     "name": "stdout",
     "output_type": "stream",
     "text": [
      "-0.7060673829740123\n",
      "-0.12518363801572369\n",
      "0.9095184461768158\n",
      "[-0.70606738 -0.02629314  0.69076512]\n"
     ]
    }
   ],
   "source": [
    "print(np.percentile(x,25))\n",
    "print(np.percentile(y,50))\n",
    "print(np.percentile(z,75))\n",
    "\n",
    "print(np.percentile(x, [25,50,75]))\n",
    "\n",
    "#np.quantile(x)\n"
   ]
  },
  {
   "cell_type": "code",
   "execution_count": null,
   "metadata": {},
   "outputs": [
    {
     "name": "stdout",
     "output_type": "stream",
     "text": [
      "7.067895055467686\n"
     ]
    },
    {
     "data": {
      "text/plain": [
       "7.067895055467686"
      ]
     },
     "execution_count": 50,
     "metadata": {},
     "output_type": "execute_result"
    }
   ],
   "source": [
    "range_x = np.max(x) - np.min(x)\n",
    "print(range_x)\n",
    "range1 = np.ptp(x)\n",
    "range1"
   ]
  },
  {
   "cell_type": "markdown",
   "metadata": {},
   "source": [
    "#### **3. Het histogram**"
   ]
  },
  {
   "cell_type": "markdown",
   "metadata": {},
   "source": [
    "Een histogram verdeelt je continue data over interval (bins) en toont de hoeveelheid (frequency) data in elke bin. Meestal is elke bin even breed. Een bin is een half open interval, met de ondergrens inbegrepen, maar de bovengrens niet. Alleen de laatste bin is een gesloten interval.\n",
    "\n",
    "Een histogram kan je plotten via de `plt.hist` functie, zie verder ook [hier](https://matplotlib.org/stable/gallery/statistics/hist.html)"
   ]
  },
  {
   "cell_type": "markdown",
   "metadata": {},
   "source": [
    "__Oefening 4__\n",
    "\n",
    "4.1 Gebruik de `np.histogram` functie om je data van vector **x** en vector**y** te verdelen over bins. Laat het aantal bins automatisch genereren. Wat krijg je terug als resultaat?\n",
    "\n",
    "4.2 Plot 2 histograms (1 voor **x** en 1 voor **y**) via de subplot functie. Je 2 plots staan dus in 1 figuur naast elkaar. Plaats labels op de assen. \n",
    "\n",
    "4.3 Plot 1 multihistogram. Genereer hiertoe een 2dim array **v** met als shape (1000,2) en gebruik opnieuw de functie \n",
    "`randn` om de getallen te genereren via een normale verdeling. Gebruik nu 10 bins in je histogram en geef de data van elke kolom een andere kleur via een colors list die je vooraf definieert. Voeg tevens een legende toe aan je figuur, voorzie je assen ook steeds van een label.\n",
    "\n",
    "\n"
   ]
  },
  {
   "cell_type": "code",
   "execution_count": 12,
   "metadata": {},
   "outputs": [
    {
     "data": {
      "image/png": "[encoded data removed]",
      "text/plain": [
       "<Figure size 640x480 with 2 Axes>"
      ]
     },
     "metadata": {},
     "output_type": "display_data"
    }
   ],
   "source": [
    "import random\n",
    "nBins = random.randint(0,20)\n",
    "\n",
    "fig, axs = plt.subplots(1, 2, sharey=True, tight_layout=True)\n",
    "\n",
    "\n",
    "axs[0].hist(x, bins=nBins,cumulative=False)\n",
    "axs[1].hist(y, bins=nBins,cumulative=False)\n",
    "axs[0].set_ylabel('x')\n",
    "axs[0].set_xlabel('frequency')\n",
    "axs[1].set_ylabel('x')\n",
    "axs[1].set_xlabel('frequency')\n",
    "#plt.ylabel('y-axis')\n",
    "#plt.xlabel('x -axis')\n",
    "plt.show()\n"
   ]
  },
  {
   "cell_type": "code",
   "execution_count": 13,
   "metadata": {},
   "outputs": [
    {
     "name": "stdout",
     "output_type": "stream",
     "text": [
      "(1000, 2)\n"
     ]
    },
    {
     "data": {
      "text/plain": [
       "array([[ 0.5844427 , -1.07944895],\n",
       "       [ 0.71469583,  0.22357751],\n",
       "       [-0.90608678,  0.21453404],\n",
       "       ...,\n",
       "       [-0.04472072,  1.24851755],\n",
       "       [ 0.2107764 , -0.72360079],\n",
       "       [ 0.11570072,  1.56849524]])"
      ]
     },
     "execution_count": 13,
     "metadata": {},
     "output_type": "execute_result"
    }
   ],
   "source": [
    "v = np.random.randn(1000,2)\n",
    "print(v.shape)\n",
    "v"
   ]
  },
  {
   "cell_type": "code",
   "execution_count": 14,
   "metadata": {},
   "outputs": [
    {
     "data": {
      "image/png": "[encoded data removed]",
      "text/plain": [
       "<Figure size 640x480 with 1 Axes>"
      ]
     },
     "metadata": {},
     "output_type": "display_data"
    }
   ],
   "source": [
    "figureOne, ax = plt.subplots()\n",
    "ax.hist(v,10, label= ['colum1','colum2'],cumulative=False)\n",
    "ax.set_xlabel('v')\n",
    "ax.set_ylabel('frequency')\n",
    "ax.legend\n",
    "plt.show()"
   ]
  },
  {
   "cell_type": "markdown",
   "metadata": {},
   "source": [
    "#### **4.Bar Plot**\n",
    "\n",
    "Daar waar een histogram de frequentie verdeling van een continue veranderlijke toont, \n",
    "zal een bar plot de aantallen tonen van een discrete variabele die bestaat uit een eindig aantal categoriën.\n",
    "\n",
    "Een bar plot kan je maken via de `plt.bar`functie.\n",
    "\n",
    " _Tip:_ https://www.machinelearningplus.com/plots/bar-plot-in-python/"
   ]
  },
  {
   "cell_type": "markdown",
   "metadata": {},
   "source": [
    "**_Oefening 5_** : Plot een bar chart met de telresultaten van de maandkalender uit oef 11.1 uit het labo van vorige week . Op de x-as bevinden zich de maanden, op de y-as het aantal jarigen in die maand. Gebruik de dictionary waarin maanden de keys en als values het aantal jarigen in die maand zijn. Merk op, een maand is een categorie variabele, er zijn immers slechts 12 mogelijke maanden. Zijn in het gegeven voorbeeld alle maanden vertegenwoordigd?\n",
    "\n",
    "_Tip_ Het handigste is om je dictionary uit oef 11.1 op te slaan naar een pickle file en deze hier terug uit te lezen, importeer de module `pickle` en gebruik de `dump` en `loads` functies. Zie ook : <https://www.geeksforgeeks.org/how-to-read-dictionary-from-file-in-python/>\n",
    "\n"
   ]
  },
  {
   "cell_type": "code",
   "execution_count": 15,
   "metadata": {},
   "outputs": [
    {
     "name": "stdout",
     "output_type": "stream",
     "text": [
      "<class 'bytes'>\n",
      "<class 'collections.defaultdict'>\n",
      "defaultdict(<class 'int'>, {'Mar': 4, 'Jan': 10, 'Feb': 13, 'Apr': 5, 'May': 9, 'Jun': 4, 'Aug': 15, 'Sep': 9, 'Oct': 6, 'Nov': 6, 'Dec': 1})\n"
     ]
    }
   ],
   "source": [
    "import pickle\n",
    "with open('DataLabo02.txt','rb') as file:\n",
    "    data = file.read()\n",
    "print(type(data)) \n",
    "months = pickle.loads(data) \n",
    "print(type(months))\n",
    "print(months) "
   ]
  },
  {
   "cell_type": "code",
   "execution_count": 16,
   "metadata": {},
   "outputs": [
    {
     "data": {
      "text/plain": [
       "Text(0.5, 1.0, 'aantal jaarige')"
      ]
     },
     "execution_count": 16,
     "metadata": {},
     "output_type": "execute_result"
    },
    {
     "data": {
      "image/png": "[encoded data removed]",
      "text/plain": [
       "<Figure size 640x480 with 1 Axes>"
      ]
     },
     "metadata": {},
     "output_type": "display_data"
    }
   ],
   "source": [
    "plt.bar(months.keys(),months.values())\n",
    "plt.title('aantal jaarige')\n"
   ]
  },
  {
   "cell_type": "markdown",
   "metadata": {},
   "source": [
    "#### 5. **Line plots - transformaties plotten**"
   ]
  },
  {
   "cell_type": "markdown",
   "metadata": {},
   "source": [
    "Een lijn plot of x-y plot visualiseert 2 dimensionele datapunten $(x_i,y_i)$ die al dan niet verbonden zijn door een lijn. Op de horizontale as duid je de datapunten $x_i$ aan en trek je een recht door $x_i$ loodrecht op de horizontale as. Op de verticale as toon je de overeenkomstige datapunten $y_i$ aan en trek je een rechte loodrecht op de verticale as door $y_i$. Daar waar de loodrechten snijden bevinden zich de koppels $(x_i,y_i)$. De y-waarden zijn meestal, de overeenkomstige x-waarden waar een functie oplosgelaten is. Wanneer de koppels verbonden worden door een lijn, bekom je het visuele functieverloop van de functie."
   ]
  },
  {
   "cell_type": "markdown",
   "metadata": {},
   "source": [
    "__Oefening 6__ Een functie plotten\n",
    "\n",
    "**6.1** Maak een vector **x** met als punten 0,1,2, ..., 20. Gebruik hiervoor de `numpy.arrange` functie\n",
    "\n",
    "**6.2** Bereken nu de **y** vector als volgt :  \\begin{equation*}  y = 5 + 2x \\end{equation*}\n",
    "    \n",
    "**6.3** plot de $x,y$ waarden via de `plt.plot`functie. Voeg labels toe aan de assen en voorzie ook een legende.\n",
    "\n",
    "**4.4** Voeg nu random noise toe aan de y waarden. Genereer een vector van 21 errors die random gegenereerd worden volgens een normale verdeling en tel deze op bij de y-waarden.\n",
    "    plot nu ook de $x, y_{noise}$ waarden op dezelfde grafiek.\n",
    "    \n",
    "_Tip_ : Speel met kleuren en lijnestyles, zie : https://www.machinelearningplus.com/plots/matplotlib-line-plot/"
   ]
  },
  {
   "cell_type": "code",
   "execution_count": 17,
   "metadata": {},
   "outputs": [
    {
     "name": "stdout",
     "output_type": "stream",
     "text": [
      "[ 0  1  2  3  4  5  6  7  8  9 10 11 12 13 14 15 16 17 18 19 20]\n"
     ]
    },
    {
     "data": {
      "image/png": "[encoded data removed]",
      "text/plain": [
       "<Figure size 640x480 with 1 Axes>"
      ]
     },
     "metadata": {},
     "output_type": "display_data"
    }
   ],
   "source": [
    "x = np.arange(21)\n",
    "y = 5 + 2 * x\n",
    "noise = np.random.randn(21)\n",
    "y_noise = y + noise\n",
    "#plt.xlabel('x')\n",
    "#plt.ylabel('y')\n",
    "plt.title('Graph y = 5 +2X')\n",
    "plt.legend\n",
    "plt.grid()\n",
    "plt.plot(x,y,color ='red', linestyle = 'dashdot')\n",
    "plt.plot(x,y_noise,color ='blue')\n",
    "print(x)\n",
    "\n"
   ]
  },
  {
   "cell_type": "markdown",
   "metadata": {},
   "source": [
    "__Oefening 7__ Oplossen van een stelsel van lineaire vergelijkingen adhv matrices\n",
    "\n",
    "Gegeven volgend stelsel : \n",
    "\n",
    "\\begin{equation*}\n",
    "\\begin{array}{cc}\n",
    "        y &=& 6x \\\\\n",
    "        y &=& -x + 8\n",
    "\\end{array}\n",
    "\\end{equation*}\n",
    "\n",
    "\n",
    "**7.1** Zoek enerzijds een oplossing via de formule $\\bf{x} = \\bf{A}^{-1} \\bf{b}$ (zie slides : zoek eerst $\\bf{A}, \\bf{A}^{-1}$ en $\\bf{b}$)\n",
    "\n",
    "**7.2** Zoek anderzijds een oplossing door de twee rechten te plotten en visueel het snijpunt te zoeken. "
   ]
  },
  {
   "cell_type": "code",
   "execution_count": 18,
   "metadata": {},
   "outputs": [
    {
     "name": "stdout",
     "output_type": "stream",
     "text": [
      "[[-6  1]\n",
      " [ 1  1]]\n",
      "[[-0.14285714  0.14285714]\n",
      " [ 0.14285714  0.85714286]]\n",
      "[0 8]\n",
      "\n",
      "\n",
      "[1.14285714 6.85714286]\n"
     ]
    },
    {
     "data": {
      "text/plain": [
       "True"
      ]
     },
     "execution_count": 18,
     "metadata": {},
     "output_type": "execute_result"
    }
   ],
   "source": [
    "import numpy as np\n",
    "\n",
    "# y = 6x        | -6x + y   = 0\n",
    "# y = -x + 8    | x + y     = 8\n",
    "\n",
    "A = np.array([[-6,1],[1,1]])  \n",
    "print(A)\n",
    "\n",
    "# inverse of A\n",
    "Ainv = np.linalg.inv(A)\n",
    "print(Ainv)\n",
    "\n",
    "b = np.array([0, 8])\n",
    "print(b)\n",
    "\n",
    "# manual solution   | multiplying the inverse of A with the vector b\n",
    "X = np.dot(Ainv,b)\n",
    "\n",
    "# automatic AX = b  | np.linalg.solve function produces a solution to A*x=b that is x = A^(-1) * b\n",
    "X = np.linalg.solve(A,b)\n",
    "\n",
    "# solution\n",
    "print('\\n')\n",
    "print(X)\n",
    "\n",
    "np.allclose(np.dot(A, X), b)\n",
    "# True\n",
    "\n"
   ]
  },
  {
   "cell_type": "code",
   "execution_count": 19,
   "metadata": {},
   "outputs": [
    {
     "data": {
      "image/png": "[encoded data removed]",
      "text/plain": [
       "<Figure size 640x480 with 1 Axes>"
      ]
     },
     "metadata": {},
     "output_type": "display_data"
    }
   ],
   "source": [
    "import numpy as np\n",
    "import matplotlib.pyplot as plt\n",
    "\n",
    "x = np.arange(25)\n",
    "y1 = -x + 8\n",
    "y2 = 6 * x\n",
    "\n",
    "plt.plot(x,y2, color='red')\n",
    "plt.plot(x,y1, color='blue')\n",
    "plt.xlabel('x-as')\n",
    "plt.ylabel('y-as')\n",
    "plt.xlim(0,20)\n",
    "plt.ylim(0,10)\n",
    "plt.show()"
   ]
  },
  {
   "cell_type": "markdown",
   "metadata": {},
   "source": [
    "__Oefening 8__ Lineaire transformaties en random punten\n",
    "\n",
    "**8.1** Gebruik opnieuw de $numpy.random$ module voor het genereren van een array met 10 random **x** en 10 random **y** waarden volgens een normale verdeling. \n",
    "\n",
    "**8.2** Transformeer vervolgens deze 10 random (x,y) coordinaten naar 10 nieuwe coordinaten via volgende lineaire transformatie :\n",
    "\\begin{equation*}\n",
    "\\bf{A} = \n",
    "\\begin{bmatrix}\n",
    "-3 & 0 \\\\\n",
    "0 & 5\n",
    "\\end{bmatrix}\n",
    "\\end{equation*}\n",
    "\n",
    "**8.3** Bereken de determinant van de matrix. (dit geeft je alvast informatie over het type transformatie.)\n",
    "\n",
    "**8.4** Plot de originele 10 random coordinaten (verbindt ze via een lijn) en doe hetzelfde met de getransformeerde coordinaten (maar in een andere kleur). "
   ]
  },
  {
   "cell_type": "code",
   "execution_count": 20,
   "metadata": {},
   "outputs": [
    {
     "name": "stdout",
     "output_type": "stream",
     "text": [
      "[[ 1.80762612  2.63558577]\n",
      " [ 3.33875245  3.7339144 ]\n",
      " [ 1.71769669  1.93253011]\n",
      " [ 2.1276913   2.13357972]\n",
      " [ 0.98295306  2.70337013]\n",
      " [ 4.01817311 -0.1184436 ]\n",
      " [ 2.93407509  0.79347847]\n",
      " [ 3.09739682  2.45649849]\n",
      " [ 3.68122524  2.7947226 ]\n",
      " [ 1.92009685  0.65880791]]\n"
     ]
    }
   ],
   "source": [
    "#randomX = np.random.randn(10)\n",
    "#randomY = np.random.randn(10)\n",
    "\n",
    "#print(randomX)\n",
    "import numpy as np\n",
    "import matplotlib.pyplot as plt\n",
    "\n",
    "#np.random.seed(1003243234)\n",
    "points = np.random.normal(2, size=(10,2))\n",
    "print(points)"
   ]
  },
  {
   "cell_type": "code",
   "execution_count": 21,
   "metadata": {},
   "outputs": [
    {
     "name": "stdout",
     "output_type": "stream",
     "text": [
      "[[ -5.42287837  13.17792884]\n",
      " [-10.01625735  18.66957202]\n",
      " [ -5.15309007   9.66265055]\n",
      " [ -6.38307391  10.6678986 ]\n",
      " [ -2.94885917  13.51685065]\n",
      " [-12.05451932  -0.59221801]\n",
      " [ -8.80222526   3.96739234]\n",
      " [ -9.29219047  12.28249243]\n",
      " [-11.04367573  13.97361302]\n",
      " [ -5.76029056   3.29403954]]\n"
     ]
    }
   ],
   "source": [
    "a = np.array([[-3,0],\n",
    "              [0,5]])\n",
    "\n",
    "# new_points = np.dot(a, points)\n",
    "new_points = np.dot(points,a)\n",
    "print(new_points)"
   ]
  },
  {
   "cell_type": "code",
   "execution_count": 13,
   "metadata": {},
   "outputs": [
    {
     "data": {
      "text/plain": [
       "-15.0"
      ]
     },
     "execution_count": 13,
     "metadata": {},
     "output_type": "execute_result"
    }
   ],
   "source": [
    "np.linalg.det(a)"
   ]
  },
  {
   "cell_type": "code",
   "execution_count": 14,
   "metadata": {},
   "outputs": [
    {
     "data": {
      "image/png": "[encoded data removed]",
      "text/plain": [
       "<Figure size 432x288 with 1 Axes>"
      ]
     },
     "metadata": {
      "needs_background": "light"
     },
     "output_type": "display_data"
    }
   ],
   "source": [
    "x2,y2 = zip(*new_points)\n",
    "x, y = zip(*points)\n",
    "plt.plot(x,y, 'o')\n",
    "plt.plot(x,y)\n",
    "plt.plot(x2,y2, 'o')\n",
    "plt.plot(x2,y2)\n",
    "plt.show()"
   ]
  }
 ],
 "metadata": {
  "interpreter": {
   "hash": "700c86eb2e4811a720e33940efbbba9c84a3e1255d73196ec3632dec78476215"
  },
  "kernelspec": {
   "display_name": "Python 3.9.7 ('base')",
   "language": "python",
   "name": "python3"
  },
  "language_info": {
   "codemirror_mode": {
    "name": "ipython",
    "version": 3
   },
   "file_extension": ".py",
   "mimetype": "text/x-python",
   "name": "python",
   "nbconvert_exporter": "python",
   "pygments_lexer": "ipython3",
   "version": "3.9.7"
  }
 },
 "nbformat": 4,
 "nbformat_minor": 4
}
