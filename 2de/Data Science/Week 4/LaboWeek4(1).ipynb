{
 "cells": [
  {
   "cell_type": "markdown",
   "metadata": {},
   "source": [
    "## Labo Week 4 : KNN"
   ]
  },
  {
   "cell_type": "markdown",
   "metadata": {},
   "source": [
    "__Oefening 1__ Kennismaking met K-NN classificatie\n",
    "\n",
    "Gegeven volgende beperkte datset :\n",
    "\n",
    "|     naam    | zoetheid |  krokantheid  |   soort  |\n",
    "|-------------|:--------:|:-------------:|---------:|\n",
    "| pompelmoes  |    6     |      5        | fruit    |\n",
    "| groene boon |    3     |      7        | groente  |\n",
    "|    ui     |    3     |      6        | groente |\n",
    "|  appelsien  |    7     |      3        | fruit    |\n",
    "|  jona gold  |    6     |      6        | fruit    |\n",
    "|  granny smith  |    4     |      7       | fruit    |\n",
    "|  paprika  |    5     |      6        | groente    |\n",
    "|  pompoen  |    4     |      2        | groente    |\n",
    "|  mango  |    9     |      3        | fruit    |\n",
    "|  framboos  |    4     |      1        | fruit    |\n",
    "\n",
    "We wensen nu voor 2 onbekende ingredienten te beslissen tot welke categorie ze behoren : _fruit of groente_ . Deze ingredienten zijn :\n",
    "\n",
    "|  naam     | zoetheid |  krokantheid  |   soort  |\n",
    "|-----------|:--------:|:-------------:|---------:|\n",
    "|  tomaat   |     6    |       4       |     ?    |\n",
    "|  wortel   |     4    |       9       |     ?    |\n",
    "\n",
    "Gebruik K-NN om deze classificatie te doen. \n",
    "\n",
    "**1.1** Doe dit eerst visueel voor $k =  1$ : m.a.w. plot de trainings- en test data in het vlak en bepaal visueel de classificatie. Geef dezelfde kleur aan data uit dezelfde klasse.\n",
    "\n",
    "**1.2** Gebruik vervolgens de KNeighborsClassifier van module sklearn om de voorspellingen te doen. Doe dit eerst voor $k=1$ daarna voor $k=3,k=5$ en tenslotte $k= 7$. Kan je deze classificaties logisch verklaren?\n"
   ]
  },
  {
   "cell_type": "markdown",
   "metadata": {},
   "source": [
    "#### KNN"
   ]
  },
  {
   "cell_type": "markdown",
   "metadata": {},
   "source": [
    "**1.1** Doe dit eerst visueel voor $k =  1$ : m.a.w. plot de trainings- en test data in het vlak en bepaal visueel de classificatie. Geef dezelfde kleur aan data uit dezelfde klasse.\n",
    "\n"
   ]
  },
  {
   "cell_type": "code",
   "execution_count": 29,
   "metadata": {},
   "outputs": [],
   "source": [
    "import pandas as pd\n",
    "import matplotlib.pyplot as plt\n",
    "\n",
    "data = pd.read_csv('trainingdata.csv')\n",
    "testData = pd.read_csv('testData.csv')\n",
    "\n",
    "\n",
    "\n",
    "X_train = data[['zoetheid','krokantheid']]\n",
    "Y_train = [data.soort.iloc[i] for i in data.index]\n",
    "\n",
    "X_test = testData[['zoetheid','krokantheid']]\n"
   ]
  },
  {
   "cell_type": "code",
   "execution_count": 30,
   "metadata": {},
   "outputs": [],
   "source": [
    "colors = data['soort'].map({'groente': \"green\", 'fruit': \"blue\", '?': \"red\"})\n",
    "\n",
    "\n",
    "#plt.scatter(X_train,Y_train)\n",
    "#plt.show()"
   ]
  },
  {
   "cell_type": "markdown",
   "metadata": {},
   "source": [
    "**1.2** Gebruik vervolgens de KNeighborsClassifier van module sklearn om de voorspellingen te doen. Doe dit eerst voor $k=1$ daarna voor $k=3,k=5$ en tenslotte $k= 7$. Kan je deze classificaties logisch verklaren?"
   ]
  },
  {
   "cell_type": "code",
   "execution_count": 31,
   "metadata": {},
   "outputs": [
    {
     "name": "stdout",
     "output_type": "stream",
     "text": [
      "1\n",
      "['fruit' 'fruit']\n",
      "3\n",
      "['fruit' 'groente']\n",
      "5\n",
      "['fruit' 'groente']\n",
      "7\n",
      "['fruit' 'fruit']\n"
     ]
    }
   ],
   "source": [
    "from sklearn.neighbors import KNeighborsClassifier\n",
    "for x in 1,3,5,7:\n",
    "    knn = KNeighborsClassifier(n_neighbors=x)\n",
    "    knn.fit(X_train,Y_train)\n",
    "    prediction = knn.predict(X_test)\n",
    "    print(x)\n",
    "    print(prediction)"
   ]
  },
  {
   "cell_type": "markdown",
   "metadata": {},
   "source": [
    "__Oefening 2__ Afstandsmaten\n",
    "\n",
    "Het KNN algoritme steunt op het berekenen van afstanden tussen datapunten om dichte buren te kunnen bepalen. Er zijn echter verschillende keuzes die je kan maken om afstanden te berekenen.\n",
    "De meest voorkomende afstandsmaten die gebruikt worden in data science zijn :\n",
    "\n",
    "    * De Euclidische afstandsmaat (Minkowski met p=2)\n",
    "    * De Manhattan afstandsmaat (Minkowski met p=1)\n",
    "    * De cosinus similarity\n",
    "    * Chebyshev\n",
    "    \n",
    "**2.1** Bereken in het voorbeeld van hierboven de afstand van de twee testdatapunten (tomaat en wortel) t.o.v. alle andere datapunten in de dataset. Dit is wat de KNeighborsClassifier achter de schermen ook doet. Je kan de afstandsmaten vinden in de module `scipy.spatial.distance` zie ook : <https://docs.scipy.org/doc/scipy/reference/spatial.distance.html>\n",
    "Doe dit voor de 4 opgegeven afstandsmaten en neem de resultaten telkens op in een aparte pandas dataframe zoals hier voor de euclidische afstandsmaat :\n",
    "\n",
    "\n",
    " \n",
    " | euclidean    | tomaat |  wortel | |         \n",
    " |-------------|:------:|:-------:|    |        \n",
    " |  pompelmoes |   ?     |     ?   | |          \n",
    " | groene boon |   ?     |   ?     | |          \n",
    " |    ui     |     ?   |     ?    |   |         \n",
    " |  appelsien  |     ?   |   ?      | |         \n",
    " |  jona gold  |     ?   |   ?      |  |      \n",
    " |  granny smith |     ?   |   ?      |  |      \n",
    " |  paprika |     ?   |   ?      |   |          \n",
    " |  pompoen |     ?   |   ?      | |          \n",
    " |  mango |     ?   |   ?      |   |         \n",
    "  | framboos |     ?   |   ?      |  |         \n",
    " \n",
    "\n",
    "\n",
    "\n",
    "**2.2** Zou de classificatie anders gebeuren door het wijzigen van de afstandsmaat? Test dit eveneens door de metriek parmeter van de KNeighborsClassifier anders in te stellen.\n",
    "\n",
    "    "
   ]
  },
  {
   "cell_type": "code",
   "execution_count": 32,
   "metadata": {},
   "outputs": [
    {
     "name": "stdout",
     "output_type": "stream",
     "text": [
      "             tomaat    wortel\n",
      "euclidean                    \n",
      "0          1.000000  4.472136\n",
      "1          4.242641  2.236068\n",
      "2          3.605551  3.162278\n",
      "3          1.414214  6.708204\n",
      "4          2.000000  3.605551\n",
      "5          3.605551  2.000000\n",
      "6          2.236068  3.162278\n",
      "7          2.828427  7.000000\n",
      "8          3.162278  7.810250\n",
      "9          3.605551  8.000000\n",
      "\n",
      "\n",
      "\n",
      "\n"
     ]
    }
   ],
   "source": [
    "import scipy.spatial.distance as dist\n",
    "\n",
    "training_values = data.iloc[:,1:3].values\n",
    "test_values = testData.iloc[:,1:3].values\n",
    "\n",
    "\n",
    "\n",
    "#print( training_values,test_values)\n",
    "\n",
    "euclidean = pd.DataFrame(dist.cdist(training_values,test_values,metric= 'euclidean'),columns =('tomaat','wortel'),index= data.index)\n",
    "euclidean.index.name = 'euclidean'\n",
    "print(euclidean)\n",
    "\n",
    "print(\"\\n\")\n",
    "\n",
    "cosinus = pd.DataFrame(dist.cdist(training_values,test_values,metric= 'cosine'),columns =('tomaat','wortel'),index= data.index)\n",
    "cosinus.index.name = 'cosine'\n",
    "#print(cosinus)\n",
    "\n",
    "print(\"\\n\")\n",
    "minikowski2 = pd.DataFrame(dist.cdist(training_values,test_values,metric= 'chebyshev'),columns =('tomaat','wortel'),index= data.index)\n",
    "minikowski2.index.name = 'chebyshev'\n",
    "#print(minikowski2)\n",
    "\n",
    "minikowski1 = pd.DataFrame(dist.cdist(training_values,test_values,metric= 'minkowski'),columns =('tomaat','wortel'),index= data.index)\n",
    "minikowski1.index.name = 'manhattan'\n",
    "#print(minikowski1)\n",
    "\n",
    "###https://cs231n.github.io/python-numpy-tutorial/\n",
    "#https://numpy.org/doc/stable/reference/\n",
    "#https://pandas.pydata.org/docs/reference/series.html\n",
    "#https://scikit-learn.org/stable/modules/classes.html\n",
    "#https://matplotlib.org/stable/api/index.html"
   ]
  },
  {
   "cell_type": "markdown",
   "metadata": {},
   "source": [
    "__Oefening 3__ train-test-split\n",
    "\n",
    "Om je leermodel op een onafhankelijke manier te kunnen evalueren moet je ervoor zorgen dat je dit model test op data die het niet gebruikt heeft om te leren. De methode `train_test_split` uit de module `sklearn.model_selection` kan hier handig voor gebruikt worden.\n",
    "\n",
    "**3.1** Genereer eerst je data **X** als een 2dim numpy array met hierin 12 rijen en 2 kolommen. Als data elementen voorzie je gewoon de getallen 1 t.e.m. 25.\n",
    "\n",
    "Genereer nu ook je labels **Y** als een numpy array van dim 1 met lengte 12. De data elementen van deze array zijn hier de classificatielabels 0 of 1, willekeurig gekozen. (Maak bijvoorbeeld gebruik van `np.random.randint`)\n",
    "\n",
    "**3.2** Split nu je data via de `train_test_split` methode en vang de 4 resultaten op. Doe dit op volgende manieren :\n",
    "    \n",
    "    * zonder parameterinstellingen. Herhaal de oproep enkele keren. Ga telkens na hoe je 4 resultaten eruit zien.\n",
    "    * stel nu een randomstate in en herhaal opnieuw enkele oproepen. Varieer ook met de waarde van randomstate zelf.\n",
    "    * stel zelf de groote van de training en/of test set in. Dit kan absoluut of procentueel.\n",
    "    * Wat is het effect van de parameter shuffle = False ?\n",
    "    * wat is het effect van de parameter stratify ?\n"
   ]
  },
  {
   "cell_type": "markdown",
   "metadata": {},
   "source": [
    "**3.1** Genereer eerst je data **X** als een 2dim numpy array met hierin 12 rijen en 2 kolommen. Als data elementen voorzie je gewoon de getallen 1 t.e.m. 25.\n",
    "\n",
    "Genereer nu ook je labels **Y** als een numpy array van dim 1 met lengte 12. De data elementen van deze array zijn hier de classificatielabels 0 of 1, willekeurig gekozen. (Maak bijvoorbeeld gebruik van `np.random.randint`)"
   ]
  },
  {
   "cell_type": "code",
   "execution_count": 33,
   "metadata": {},
   "outputs": [
    {
     "name": "stdout",
     "output_type": "stream",
     "text": [
      "X_train shape: (9, 2)\n",
      "Y_train shape: (9,)\n"
     ]
    }
   ],
   "source": [
    "from sklearn.model_selection import train_test_split\n",
    "import numpy as np\n",
    "X = np.random.randint(26, size=(12, 2))\n",
    "Y = np.random.randint(2, size=12)\n",
    "\n",
    "X_trainData, X_testData, Y_trainData, Y_testData = train_test_split(X, Y, random_state= 55, shuffle= False)\n",
    "\n",
    "print(\"X_train shape:\", X_trainData.shape)\n",
    "print(\"Y_train shape:\", Y_trainData.shape)"
   ]
  },
  {
   "cell_type": "markdown",
   "metadata": {},
   "source": [
    "**Oefening 4**  K-NN regressie met sklearn\n",
    "\n",
    "**4.1** Lees het bestanden _auto.csv_ in als een dataframe. Ga na wat deze data precies inhoudt en hoe omvangrijk ze is. \n",
    "\n",
    "De bedoeling is dat je een leermodel opstelt om te voorspellen hoeveel het verbuik is van de wagen (in miles /gallon) gegeven de afgelegde weg (in miles) en de pk waarden van de wagen.\n",
    "\n",
    "**4.2** Maak gebruik van de $train\\_test\\_split$ methode om je data op te splitsen in training versus test data. Neem 30% van de data als testdata, 70% van de data als trainingsdata.\n",
    "\n",
    "**4.3** Ga eerst na wat in dit geval een goede waarde voor $k$ zou zijn. Gebruik   \n",
    "  hiervoor de Elbow-methode. Als error bereken je de _mean-squared_error (mse)_  voor elke k-waarde die je test. Plot de _elbow_ uit in een grafiek (m.a.w. voor elke geteste k de bijbehorende $mse$). De $k-waarden$ neem je oneven als volgt :\n",
    "  ```\n",
    "  k_waarden = np.arrange(1,20,2)\n",
    "  ```\n",
    "  De $mse$ is het gemiddelde van het verschil van de kwadraten tussen elke voorspelde waarde en zijn werkelijke waarde :\n",
    "  \n",
    "  \\begin{equation}\n",
    "  mse = \\frac{1}{len(testset)} \\sum_i (y_{i\\;predicted} - y_{i\\;expected})^2\n",
    "  \\end{equation}\n",
    "  Gelukkig kan python die ook gewoon voor je berekenen : nl. via de $mean\\_squared\\_error$ methode uit : $sklearn.metrics$\n",
    "\n",
    "Test zeker ook uit wat het effect is van de parameter $random\\_state$ in je oproep van de $train\\_test\\_split$ methode die je hierboven gebruikte om je testset te genrereren.\n",
    "\n",
    "**4.4** Werk nu verder met de $k$-waarde die een minimale error geeft in je grafiek. Train je model en bereken de accuracy en de mse op je test set. Maak een plot waarbij je voor de test data de voorspelde en werkelijke mpg waarde uitplot. Neem als waarde voor de X-as gewoon de range(1,119) een nummering over het aantal elementen uit je test set.\n",
    "\n"
   ]
  },
  {
   "cell_type": "markdown",
   "metadata": {},
   "source": [
    "**4.1** Lees het bestanden _auto.csv_ in als een dataframe. Ga na wat deze data precies inhoudt en hoe omvangrijk ze is. \n",
    "\n",
    "De bedoeling is dat je een leermodel opstelt om te voorspellen hoeveel het verbuik is van de wagen (in miles /gallon) gegeven de afgelegde weg (in miles) en de pk waarden van de wagen."
   ]
  },
  {
   "cell_type": "code",
   "execution_count": 34,
   "metadata": {},
   "outputs": [
    {
     "name": "stdout",
     "output_type": "stream",
     "text": [
      "<class 'pandas.core.frame.DataFrame'>\n",
      "RangeIndex: 392 entries, 0 to 391\n",
      "Data columns (total 3 columns):\n",
      " #   Column        Non-Null Count  Dtype  \n",
      "---  ------        --------------  -----  \n",
      " 0   displacement  392 non-null    float64\n",
      " 1   horsepower    392 non-null    int64  \n",
      " 2   mpg           392 non-null    float64\n",
      "dtypes: float64(2), int64(1)\n",
      "memory usage: 9.3 KB\n",
      "None\n"
     ]
    }
   ],
   "source": [
    "dataVier= pd.read_csv('auto.csv')\n",
    "print(dataVier.info())"
   ]
  },
  {
   "cell_type": "markdown",
   "metadata": {},
   "source": [
    "**4.2** Maak gebruik van de $train\\_test\\_split$ methode om je data op te splitsen in training versus test data. Neem 30% van de data als testdata, 70% van de data als trainingsdata."
   ]
  },
  {
   "cell_type": "code",
   "execution_count": 35,
   "metadata": {},
   "outputs": [
    {
     "name": "stdout",
     "output_type": "stream",
     "text": [
      "X_train shape: (274, 2)\n",
      "y_train shape: (274,)\n"
     ]
    }
   ],
   "source": [
    "X_trainDataVier, X_testDataVier, Y_trainDataVier, Y_testDataVier = train_test_split(dataVier[['displacement','horsepower']], dataVier['mpg'], test_size=0.3, random_state=42)\n",
    "print(\"X_train shape:\", X_trainDataVier.shape)\n",
    "print(\"y_train shape:\", Y_trainDataVier.shape)"
   ]
  },
  {
   "cell_type": "markdown",
   "metadata": {},
   "source": [
    "**4.3** Ga eerst na wat in dit geval een goede waarde voor $k$ zou zijn. Gebruik   \n",
    "  hiervoor de Elbow-methode. Als error bereken je de _mean-squared_error (mse)_  voor elke k-waarde die je test. Plot de _elbow_ uit in een grafiek (m.a.w. voor elke geteste k de bijbehorende $mse$). De $k-waarden$ neem je oneven als volgt :\n",
    "  ```\n",
    "  k_waarden = np.arrange(1,20,2)\n",
    "  ```\n",
    "  De $mse$ is het gemiddelde van het verschil van de kwadraten tussen elke voorspelde waarde en zijn werkelijke waarde :\n",
    "  \n",
    "  \\begin{equation}\n",
    "  mse = \\frac{1}{len(testset)} \\sum_i (y_{i\\;predicted} - y_{i\\;expected})^2\n",
    "  \\end{equation}\n",
    "  Gelukkig kan python die ook gewoon voor je berekenen : nl. via de $mean\\_squared\\_error$ methode uit : $sklearn.metrics$"
   ]
  },
  {
   "cell_type": "code",
   "execution_count": 36,
   "metadata": {},
   "outputs": [
    {
     "data": {
      "image/png": "[encoded data removed]",
      "text/plain": [
       "<Figure size 432x288 with 1 Axes>"
      ]
     },
     "metadata": {
      "needs_background": "light"
     },
     "output_type": "display_data"
    },
    {
     "name": "stdout",
     "output_type": "stream",
     "text": [
      "sweet spot\n",
      " 7\n"
     ]
    }
   ],
   "source": [
    "from sklearn.neighbors import KNeighborsRegressor\n",
    "from sklearn.metrics import mean_squared_error \n",
    "from math import sqrt\n",
    "\n",
    "k_waarden = np.arange(1,20,2)\n",
    "rmse_val = [] #to store rmse values for different k\n",
    "for k in k_waarden:\n",
    "    model = KNeighborsRegressor(n_neighbors = k)\n",
    "    model.fit(X_trainDataVier, Y_trainDataVier)  #fit the model\n",
    "    pred=model.predict(X_testDataVier) #make prediction on test set\n",
    "    error = sqrt(mean_squared_error(Y_testDataVier,pred)) #calculate rmse\n",
    "    rmse_val.append(error) #store rmse values\n",
    "\n",
    "\n",
    "# spot\n",
    "plt.scatter(k_waarden[np.argmin(rmse_val)], min(rmse_val) ,color = 'red', linewidths= 15)\n",
    "plt.plot(k_waarden,rmse_val)\n",
    "plt.show()\n",
    "\n",
    "k = k_waarden[np.argmin(rmse_val)]\n",
    "print(\"sweet spot\\n\", k)\n",
    "\n"
   ]
  },
  {
   "cell_type": "markdown",
   "metadata": {},
   "source": [
    "**4.4** Werk nu verder met de $k$-waarde die een minimale error geeft in je grafiek. Train je model en bereken de accuracy en de mse op je test set. Maak een plot waarbij je voor de test data de voorspelde en werkelijke mpg waarde uitplot. Neem als waarde voor de X-as gewoon de range(1,119) een nummering over het aantal elementen uit je test set."
   ]
  },
  {
   "cell_type": "code",
   "execution_count": 37,
   "metadata": {},
   "outputs": [
    {
     "ename": "NameError",
     "evalue": "name 'K' is not defined",
     "output_type": "error",
     "traceback": [
      "\u001b[1;31m---------------------------------------------------------------------------\u001b[0m",
      "\u001b[1;31mNameError\u001b[0m                                 Traceback (most recent call last)",
      "\u001b[1;32m~\\AppData\\Local\\Temp/ipykernel_15000/78715525.py\u001b[0m in \u001b[0;36m<module>\u001b[1;34m\u001b[0m\n\u001b[1;32m----> 1\u001b[1;33m \u001b[0mmodel\u001b[0m \u001b[1;33m=\u001b[0m \u001b[0mK\u001b[0m\u001b[1;33m\u001b[0m\u001b[1;33m\u001b[0m\u001b[0m\n\u001b[0m",
      "\u001b[1;31mNameError\u001b[0m: name 'K' is not defined"
     ]
    }
   ],
   "source": [
    "model = K"
   ]
  }
 ],
 "metadata": {
  "interpreter": {
   "hash": "700c86eb2e4811a720e33940efbbba9c84a3e1255d73196ec3632dec78476215"
  },
  "kernelspec": {
   "display_name": "Python 3.9.7 ('base')",
   "language": "python",
   "name": "python3"
  },
  "language_info": {
   "codemirror_mode": {
    "name": "ipython",
    "version": 3
   },
   "file_extension": ".py",
   "mimetype": "text/x-python",
   "name": "python",
   "nbconvert_exporter": "python",
   "pygments_lexer": "ipython3",
   "version": "3.9.7"
  }
 },
 "nbformat": 4,
 "nbformat_minor": 4
}
